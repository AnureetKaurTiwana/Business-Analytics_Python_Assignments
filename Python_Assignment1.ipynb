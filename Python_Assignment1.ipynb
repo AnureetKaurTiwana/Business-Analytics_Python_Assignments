{
 "cells": [
  {
   "cell_type": "markdown",
   "metadata": {},
   "source": [
    "Numbers b/w 1500 and 2700 which are divisible by 7 and multiple of 5"
   ]
  },
  {
   "cell_type": "code",
   "execution_count": 6,
   "metadata": {},
   "outputs": [
    {
     "name": "stdout",
     "output_type": "stream",
     "text": [
      "1505\n",
      "1540\n",
      "1575\n",
      "1610\n",
      "1645\n",
      "1680\n",
      "1715\n",
      "1750\n",
      "1785\n",
      "1820\n",
      "1855\n",
      "1890\n",
      "1925\n",
      "1960\n",
      "1995\n",
      "2030\n",
      "2065\n",
      "2100\n",
      "2135\n",
      "2170\n",
      "2205\n",
      "2240\n",
      "2275\n",
      "2310\n",
      "2345\n",
      "2380\n",
      "2415\n",
      "2450\n",
      "2485\n",
      "2520\n",
      "2555\n",
      "2590\n",
      "2625\n",
      "2660\n",
      "2695\n"
     ]
    }
   ],
   "source": [
    "for i in range(1500,2701):\n",
    "    if i%7==0 and i%5==0:\n",
    "        print(i)"
   ]
  },
  {
   "cell_type": "raw",
   "metadata": {},
   "source": [
    "Add Two numbers"
   ]
  },
  {
   "cell_type": "code",
   "execution_count": 2,
   "metadata": {},
   "outputs": [
    {
     "data": {
      "text/plain": [
       "3"
      ]
     },
     "execution_count": 2,
     "metadata": {},
     "output_type": "execute_result"
    }
   ],
   "source": [
    "def add(a,b):\n",
    "    return a+b\n",
    "add(1,2)"
   ]
  },
  {
   "cell_type": "raw",
   "metadata": {},
   "source": [
    "Maximum of Two number"
   ]
  },
  {
   "cell_type": "code",
   "execution_count": 3,
   "metadata": {},
   "outputs": [
    {
     "name": "stdout",
     "output_type": "stream",
     "text": [
      "3\n"
     ]
    }
   ],
   "source": [
    "def max(a,b):\n",
    "    if a>b:\n",
    "        print(a)\n",
    "    else:\n",
    "        print(b)\n",
    "max(1,3)"
   ]
  },
  {
   "cell_type": "raw",
   "metadata": {},
   "source": [
    "Factorial of a number"
   ]
  },
  {
   "cell_type": "code",
   "execution_count": 5,
   "metadata": {},
   "outputs": [
    {
     "data": {
      "text/plain": [
       "24"
      ]
     },
     "execution_count": 5,
     "metadata": {},
     "output_type": "execute_result"
    }
   ],
   "source": [
    "def factorial(x):\n",
    "    mul=1\n",
    "    for i in range(1,x+1):\n",
    "        mul=mul*i\n",
    "    return mul\n",
    "factorial(4)"
   ]
  },
  {
   "cell_type": "raw",
   "metadata": {},
   "source": [
    "Program For Simple Interest"
   ]
  },
  {
   "cell_type": "code",
   "execution_count": 20,
   "metadata": {},
   "outputs": [
    {
     "name": "stdin",
     "output_type": "stream",
     "text": [
      "enter the principle value 10\n",
      "enter the rate of interest on yearly basis 4\n",
      "enter the time period in years 1\n"
     ]
    },
    {
     "name": "stdout",
     "output_type": "stream",
     "text": [
      "0.4\n"
     ]
    }
   ],
   "source": [
    "def simpleInterest(p,r,t):\n",
    "    print((p*r*t)/100)\n",
    "p=int(input(\"enter the principle value\"))\n",
    "r=int(input(\"enter the rate of interest on yearly basis\"))\n",
    "t=int(input(\"enter the time period in years\"))\n",
    "simpleInterest(p,r,t)\n"
   ]
  },
  {
   "cell_type": "raw",
   "metadata": {},
   "source": [
    "Program For compound Interest"
   ]
  },
  {
   "cell_type": "code",
   "execution_count": 21,
   "metadata": {},
   "outputs": [
    {
     "name": "stdin",
     "output_type": "stream",
     "text": [
      "enter the principle value 10\n",
      "enter the rate of interest on yearly basis 4\n",
      "enter the time period in years 1\n",
      "enter the number of times yearly, Half yearly, quaterly 1\n"
     ]
    },
    {
     "data": {
      "text/plain": [
       "0.40000000000000036"
      ]
     },
     "execution_count": 21,
     "metadata": {},
     "output_type": "execute_result"
    }
   ],
   "source": [
    "def simpleInterest(p,r,t,n):\n",
    "    c_interest=p*((1+r/(n*100*t))**(n*t))-p\n",
    "    return c_interest\n",
    "p=int(input(\"enter the principle value\"))\n",
    "r=int(input(\"enter the rate of interest on yearly basis\"))\n",
    "t=int(input(\"enter the time period in years\"))\n",
    "n=int(input(\"enter the number of times yearly, Half yearly, quaterly\"))\n",
    "simpleInterest(p,r,t,n)"
   ]
  },
  {
   "cell_type": "raw",
   "metadata": {},
   "source": [
    "check Armstrong number"
   ]
  },
  {
   "cell_type": "code",
   "execution_count": null,
   "metadata": {},
   "outputs": [],
   "source": [
    "x=int(input(\"number=\"))\n",
    "def armstrong(x):\n",
    "    temp=x\n",
    "    sum=0\n",
    "    while(temp>0):\n",
    "        sum +=(temp%10)**3\n",
    "        temp //=10\n",
    "    if sum==x:\n",
    "        print(\"Its Armstromg\")\n",
    "    else:\n",
    "        print(\"not an Armstrong\")\n",
    "armstrong(x)"
   ]
  },
  {
   "cell_type": "raw",
   "metadata": {},
   "source": [
    "Area of circle"
   ]
  },
  {
   "cell_type": "code",
   "execution_count": 6,
   "metadata": {},
   "outputs": [
    {
     "name": "stdout",
     "output_type": "stream",
     "text": [
      "area =12.56\n"
     ]
    }
   ],
   "source": [
    "def area(r):\n",
    "    pi=3.14\n",
    "    return pi*r**2\n",
    "a=area(2)\n",
    "print(\"area ={}\".format(a))\n",
    "\n"
   ]
  },
  {
   "cell_type": "raw",
   "metadata": {},
   "source": [
    "Print all prime numbers in an interval\n"
   ]
  },
  {
   "cell_type": "code",
   "execution_count": null,
   "metadata": {},
   "outputs": [],
   "source": [
    "a=int(input(\"enter a\"))\n",
    "b=int(input(\"enter b\"))\n",
    "for i in range(a,b):\n",
    "    for j in range(2,i):\n",
    "        if i%j==0:\n",
    "            break\n",
    "    if j==i-1:\n",
    "        print(i)\n",
    "      "
   ]
  },
  {
   "cell_type": "markdown",
   "metadata": {},
   "source": [
    "Check nunber is prime or not\n"
   ]
  },
  {
   "cell_type": "code",
   "execution_count": 13,
   "metadata": {},
   "outputs": [
    {
     "name": "stdin",
     "output_type": "stream",
     "text": [
      "enter the numb 10\n"
     ]
    },
    {
     "name": "stdout",
     "output_type": "stream",
     "text": [
      "its not prime\n"
     ]
    }
   ],
   "source": [
    "a=int(input(\"enter the numb\"))\n",
    "for j in range(2,a):\n",
    "    if a%j==0:\n",
    "        break\n",
    "if j==a-1:\n",
    "        print(\"Its prime\")\n",
    "else:\n",
    "        print(\"its not prime\")"
   ]
  },
  {
   "cell_type": "code",
   "execution_count": null,
   "metadata": {},
   "outputs": [],
   "source": []
  }
 ],
 "metadata": {
  "kernelspec": {
   "display_name": "Python 3",
   "language": "python",
   "name": "python3"
  },
  "language_info": {
   "codemirror_mode": {
    "name": "ipython",
    "version": 3
   },
   "file_extension": ".py",
   "mimetype": "text/x-python",
   "name": "python",
   "nbconvert_exporter": "python",
   "pygments_lexer": "ipython3",
   "version": "3.8.3"
  }
 },
 "nbformat": 4,
 "nbformat_minor": 4
}
