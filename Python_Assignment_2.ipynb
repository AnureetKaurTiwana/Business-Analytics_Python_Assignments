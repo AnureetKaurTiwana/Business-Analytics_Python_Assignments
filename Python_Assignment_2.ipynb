{
 "cells": [
  {
   "cell_type": "markdown",
   "metadata": {},
   "source": [
    "nth Fibonacci number"
   ]
  },
  {
   "cell_type": "code",
   "execution_count": 3,
   "metadata": {},
   "outputs": [
    {
     "name": "stdin",
     "output_type": "stream",
     "text": [
      "input n numb to find this fibonacci number 7\n"
     ]
    },
    {
     "name": "stdout",
     "output_type": "stream",
     "text": [
      "13\n"
     ]
    }
   ],
   "source": [
    "def fib(n):\n",
    "    if n<=1:\n",
    "        return n\n",
    "    return fib(n-1)+fib(n-2)\n",
    "print(fib(int(input(\"input n numb to find this fibonacci number\"))))\n",
    "\n",
    "      "
   ]
  },
  {
   "cell_type": "markdown",
   "metadata": {},
   "source": [
    "Check if given numb is the fibonacci number "
   ]
  },
  {
   "cell_type": "code",
   "execution_count": 15,
   "metadata": {},
   "outputs": [
    {
     "name": "stdin",
     "output_type": "stream",
     "text": [
      "enter the number 3\n"
     ]
    },
    {
     "name": "stdout",
     "output_type": "stream",
     "text": [
      "49\n",
      "True\n"
     ]
    }
   ],
   "source": [
    "import math \n",
    "n=int(input(\"enter the number\"))\n",
    "numb1=5*n*n+4\n",
    "numb2=5*n*n-4\n",
    "print(numb)\n",
    "s_root1=int(math.sqrt(numb1))\n",
    "s_root2=int(math.sqrt(numb2))\n",
    "if (s_root1*s_root1==numb1)or(s_root1*s_root2==numb2):\n",
    "    print (\"True\")\n",
    "else:\n",
    "    print(\" False\")\n",
    "    "
   ]
  },
  {
   "cell_type": "markdown",
   "metadata": {},
   "source": [
    "program to print ascii value of a character"
   ]
  },
  {
   "cell_type": "code",
   "execution_count": 17,
   "metadata": {},
   "outputs": [
    {
     "name": "stdin",
     "output_type": "stream",
     "text": [
      "enter number 5\n"
     ]
    },
    {
     "name": "stdout",
     "output_type": "stream",
     "text": [
      "5 ASCII \t 53\n"
     ]
    }
   ],
   "source": [
    "num=input(\"enter number\")\n",
    "print(num,\"ASCII \\t\",ord(num))"
   ]
  },
  {
   "cell_type": "markdown",
   "metadata": {},
   "source": [
    "sum of squares of first n natural numbers "
   ]
  },
  {
   "cell_type": "code",
   "execution_count": 23,
   "metadata": {},
   "outputs": [
    {
     "name": "stdin",
     "output_type": "stream",
     "text": [
      "enter the numver  3\n"
     ]
    },
    {
     "name": "stdout",
     "output_type": "stream",
     "text": [
      "14.0\n"
     ]
    }
   ],
   "source": [
    "n=int(input(\"enter the numver \"))\n",
    "sum=((n*(n+1)*(2*n+1))/6)\n",
    "print(sum)"
   ]
  },
  {
   "cell_type": "markdown",
   "metadata": {},
   "source": [
    "sum of array"
   ]
  },
  {
   "cell_type": "markdown",
   "metadata": {},
   "source": [
    "sum of array"
   ]
  },
  {
   "cell_type": "code",
   "execution_count": 24,
   "metadata": {},
   "outputs": [
    {
     "name": "stdout",
     "output_type": "stream",
     "text": [
      "6\n"
     ]
    }
   ],
   "source": [
    "l=[1,2,3]\n",
    "s=0\n",
    "for i in l:\n",
    "    s +=i\n",
    "print(s)"
   ]
  },
  {
   "cell_type": "markdown",
   "metadata": {},
   "source": [
    "largest element in array"
   ]
  },
  {
   "cell_type": "markdown",
   "metadata": {},
   "source": []
  },
  {
   "cell_type": "code",
   "execution_count": 27,
   "metadata": {},
   "outputs": [
    {
     "name": "stdout",
     "output_type": "stream",
     "text": [
      "90\n",
      "using function 90\n"
     ]
    }
   ],
   "source": [
    "l2=[10,5,16,90,4]\n",
    "x=l2[0]\n",
    "for i in l2:\n",
    "    if i>x:\n",
    "        x=i\n",
    "print(x)\n",
    "print(\"using function\",max(l2))"
   ]
  },
  {
   "cell_type": "markdown",
   "metadata": {},
   "source": [
    "Largest number using insertion Sort"
   ]
  },
  {
   "cell_type": "code",
   "execution_count": null,
   "metadata": {},
   "outputs": [
    {
     "name": "stdout",
     "output_type": "stream",
     "text": [
      "[10, 5, 16, 90, 4]\n"
     ]
    }
   ],
   "source": [
    "key=l2[0]\n",
    "l=len(l2)\n",
    "print(l2,\" length of l\")\n",
    "for i in range(1,l):\n",
    "    j=1\n",
    "    while(j<i):\n",
    "        if l2[i-1]>l2[j]:\n",
    "            l2[i-1]=l2[j]\n",
    "            l2[j]=key\n",
    "        ++j\n",
    "    key=l2[i-1]\n",
    "print(l2)"
   ]
  },
  {
   "cell_type": "code",
   "execution_count": null,
   "metadata": {},
   "outputs": [],
   "source": []
  },
  {
   "cell_type": "code",
   "execution_count": 8,
   "metadata": {},
   "outputs": [
    {
     "name": "stdout",
     "output_type": "stream",
     "text": [
      "[3, 4, 5, 1, 2]\n"
     ]
    }
   ],
   "source": [
    "arr=[1,2,3,4,5]\n",
    "n=len(arr)\n",
    "def split(arr,d,n):\n",
    "    arr1=arr[0:d]\n",
    "    arr2=arr[d:n]\n",
    "    arr=arr2.extend(arr1)\n",
    "    print(arr2)    \n",
    "    return arr\n",
    "split(arr,2,n)\n"
   ]
  }
 ],
 "metadata": {
  "kernelspec": {
   "display_name": "Python 3",
   "language": "python",
   "name": "python3"
  },
  "language_info": {
   "codemirror_mode": {
    "name": "ipython",
    "version": 3
   },
   "file_extension": ".py",
   "mimetype": "text/x-python",
   "name": "python",
   "nbconvert_exporter": "python",
   "pygments_lexer": "ipython3",
   "version": "3.8.3"
  }
 },
 "nbformat": 4,
 "nbformat_minor": 4
}
